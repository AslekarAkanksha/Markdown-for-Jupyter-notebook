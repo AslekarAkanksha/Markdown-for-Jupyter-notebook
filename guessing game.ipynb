{
 "cells": [
  {
   "cell_type": "markdown",
   "id": "f53f47f2",
   "metadata": {},
   "source": [
    "# Guessing game"
   ]
  },
  {
   "cell_type": "markdown",
   "id": "3f8333fd",
   "metadata": {},
   "source": [
    "1. when you run this program, automatically this program choose a number randomly -- which will be the jackpot number.\n",
    "2. user has to guess that number. \n",
    "3. suppose the jackpot number is 50 and user say it's 25, program tells user it's wrong guess higher.\n",
    "4. that time user say it's 60, program tells wrong, guess lower.\n",
    "5. user choose 50, program tells that's correct.\n",
    "6. you took 4 attempts."
   ]
  },
  {
   "cell_type": "code",
   "execution_count": 2,
   "id": "a7ef369a",
   "metadata": {},
   "outputs": [],
   "source": [
    "import random"
   ]
  },
  {
   "cell_type": "code",
   "execution_count": 21,
   "id": "25e438ac",
   "metadata": {},
   "outputs": [
    {
     "data": {
      "text/plain": [
       "54"
      ]
     },
     "execution_count": 21,
     "metadata": {},
     "output_type": "execute_result"
    }
   ],
   "source": [
    "random.randint(1,100)"
   ]
  },
  {
   "cell_type": "code",
   "execution_count": 22,
   "id": "3fc4d12f",
   "metadata": {},
   "outputs": [
    {
     "name": "stdout",
     "output_type": "stream",
     "text": [
      "guess : 48\n",
      "please guess the lower\n",
      "  \n",
      "guess : 40\n",
      "please guess the lower\n",
      "  \n",
      "guess : 30\n",
      "please guess the lower\n",
      "  \n",
      "guess : 20\n",
      "please guess the lower\n",
      "  \n",
      "guess : 10\n",
      "please guess the higher\n",
      "  \n",
      "guess : 15\n",
      "please guess the lower\n",
      "  \n",
      "guess : 13\n",
      "please guess the lower\n",
      "  \n",
      "guess : 11\n",
      "       \n",
      "congratulation 😀 you are correct\n",
      "You took 8 attempts\n"
     ]
    }
   ],
   "source": [
    "jackpot = random.randint(1,100)\n",
    "guess = int(input(\"guess : \"))\n",
    "\n",
    "counter = 1\n",
    "\n",
    "while guess != jackpot:\n",
    "    \n",
    "    if guess < jackpot:\n",
    "        print(\"please guess the higher\")\n",
    "        print(\"  \")\n",
    "    else:\n",
    "        print(\"please guess the lower\")\n",
    "        print(\"  \")\n",
    "    \n",
    "    guess = int(input(\"guess : \"))\n",
    "    counter += 1\n",
    "print(\"       \")\n",
    "print('congratulation \\U0001F600 you are correct')\n",
    "print(\"You took\", counter,\"attempts\")"
   ]
  }
 ],
 "metadata": {
  "kernelspec": {
   "display_name": "Python 3 (ipykernel)",
   "language": "python",
   "name": "python3"
  },
  "language_info": {
   "codemirror_mode": {
    "name": "ipython",
    "version": 3
   },
   "file_extension": ".py",
   "mimetype": "text/x-python",
   "name": "python",
   "nbconvert_exporter": "python",
   "pygments_lexer": "ipython3",
   "version": "3.9.12"
  }
 },
 "nbformat": 4,
 "nbformat_minor": 5
}
